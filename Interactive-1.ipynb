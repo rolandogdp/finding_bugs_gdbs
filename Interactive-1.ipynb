{
 "cells": [
  {
   "cell_type": "markdown",
   "metadata": {
    "isInteractiveWindowMessageCell": true
   },
   "source": [
    "Connected to project (Python 3.12.0)"
   ]
  },
  {
   "cell_type": "markdown",
   "metadata": {
    "isInteractiveWindowMessageCell": true
   },
   "source": [
    "Restarted project (Python 3.12.0)"
   ]
  },
  {
   "cell_type": "code",
   "execution_count": 1,
   "metadata": {},
   "outputs": [],
   "source": [
    "%load_ext autoreload\n",
    "%autoreload 1\n"
   ]
  },
  {
   "cell_type": "code",
   "execution_count": 2,
   "metadata": {},
   "outputs": [],
   "source": [
    "#!/usr/bin/env python3\n",
    "\n",
    "import os\n",
    "import time\n",
    "import json\n",
    "import threading\n",
    "import configparser\n",
    "import datetime\n",
    "import random\n",
    "%aimport schema_scanner\n",
    "%aimport query_generator\n",
    "%aimport query_mutator_sequential\n",
    "%aimport query_generator_subqueries_with_graph\n",
    "%aimport testing\n",
    "\n",
    "\n",
    "#!/usr/bin/env python3\n",
    "\n",
    "import os\n",
    "import time\n",
    "import json\n",
    "import threading\n",
    "import configparser\n",
    "import datetime\n",
    "\n",
    "from schema_scanner import *\n",
    "from query_generator import *\n",
    "from query_mutator_sequential import *\n",
    "from query_generator_subqueries_with_graph import *\n",
    "\n",
    "import graph_tool.all as gt\n",
    "from testing import *\n"
   ]
  },
  {
   "cell_type": "code",
   "execution_count": 3,
   "metadata": {},
   "outputs": [
    {
     "name": "stdout",
     "output_type": "stream",
     "text": [
      "=====GraphGenie=====\n",
      "Node count: 28863\n",
      "Edge count: 332522\n",
      "Node labels: ['Actor', 'Director', 'Genre', 'Movie', 'Person', 'User']\n",
      "Edge labels: ['ACTED_IN', 'DIRECTED', 'IN_GENRE', 'RATED']\n",
      "each_node_label: ['Actor', 'Director', 'Genre', 'Movie', 'Person', 'User']\n",
      "properties_types:{'bornIn': 'STRING NOT NULL', 'born': 'DATE NOT NULL', 'died': 'DATE NOT NULL', 'tmdbId': 'STRING NOT NULL', 'imdbId': 'STRING NOT NULL', 'name': 'STRING NOT NULL', 'url': 'STRING NOT NULL', 'bio': 'STRING NOT NULL', 'poster': 'STRING NOT NULL', 'runtime': 'INTEGER NOT NULL', 'revenue': 'INTEGER NOT NULL', 'budget': 'INTEGER NOT NULL', 'imdbRating': 'FLOAT NOT NULL', 'released': 'STRING NOT NULL', 'countries': 'LIST<STRING NOT NULL> NOT NULL', 'languages': 'LIST<STRING NOT NULL> NOT NULL', 'plot': 'STRING NOT NULL', 'imdbVotes': 'INTEGER NOT NULL', 'year': 'INTEGER NOT NULL', 'movieId': 'STRING NOT NULL', 'title': 'STRING NOT NULL', 'userId': 'STRING NOT NULL'}\n",
      "A D G M P U \n",
      "0 0 0 1 0 0 \n",
      "0 0 0 1 0 0 \n",
      "0 0 0 0 0 0 \n",
      "0 0 1 0 0 0 \n",
      "0 0 0 1 0 0 \n",
      "0 0 0 1 0 0 \n",
      "===FILLING GRAPH (Can take a while)===\n",
      "Setting ids to each node\n",
      "Gather list of all ids\n",
      "all_ids [{'n.id': 33879}, {'n.id': 33878}, {'n.id': 33877}, {'n.id': 33876}, {'n.id': 33875}]\n"
     ]
    },
    {
     "name": "stderr",
     "output_type": "stream",
     "text": [
      "100%|██████████| 28863/28863 [00:00<00:00, 875249.95it/s]\n"
     ]
    },
    {
     "name": "stdout",
     "output_type": "stream",
     "text": [
      "Querying vertices and edges (Can take a while))\n",
      "Adding vertices and edges (with their properties) (Can take a while))\n"
     ]
    },
    {
     "name": "stderr",
     "output_type": "stream",
     "text": [
      "100%|██████████| 166261/166261 [00:01<00:00, 131931.48it/s]\n"
     ]
    },
    {
     "name": "stdout",
     "output_type": "stream",
     "text": [
      "Graph filled\n",
      "===============\n"
     ]
    }
   ],
   "source": [
    "\n",
    "\n",
    "class Testing:\n",
    "    def init_testing_configs(self):\n",
    "        config = configparser.ConfigParser()\n",
    "        config.read('graphgenie.ini')\n",
    "        self.threads = []\n",
    "        self.prev_results = []\n",
    "        self.bug_rules_eval = [0, 0, 0]\n",
    "        self.variant = int(config['testing_configs']['variant'])\n",
    "        self.multi_threading = int(config['testing_configs']['multi_threading'])\n",
    "        self.perf_issue = int(config['testing_configs']['perf_issue'])\n",
    "        self.threshold = float(config['testing_configs']['threshold'])\n",
    "        self.variant_threshold = float(config['testing_configs']['variant_threshold'])\n",
    "        self.minimum_test_ms = float(config['testing_configs']['minimum_test_ms'])\n",
    "        self.ip = config['default']['ip']\n",
    "        self.port = int(config['default']['port'])\n",
    "        self.username = config['default']['username']\n",
    "        self.password = config['default']['password']\n",
    "        self.logpath = config['testing_configs']['logpath']\n",
    "        self.bug_logpath = config['testing_configs']['bug_logpath']\n",
    "        self.exception_logpath = config['testing_configs']['exception_logpath']\n",
    "        self.min_save_log_size = int(config['testing_configs']['min_save_log_size'])\n",
    "        self.max_testing_query_num = int(config['testing_configs']['max_testing_query_num'])\n",
    "        self.testing_times = int(config['testing_configs']['testing_times'])\n",
    "        self.statistics = int(config['testing_configs']['statistics'])\n",
    "        self.logging_stop = int(config['testing_configs']['logging_stop'])\n",
    "\n",
    "    def init_log(self):\n",
    "        if os.path.exists(self.logpath) and os.path.getsize(self.logpath)>self.min_save_log_size:\n",
    "            os.system(\"mv {} ./logs/testing.log-{}\".format(self.logpath, str(time.time())))\n",
    "        if os.path.exists(self.bug_logpath):\n",
    "            os.system(\"mv {} ./logs/buggy.log-{}\".format(self.bug_logpath, str(time.time())))\n",
    "        if os.path.exists(self.exception_logpath):\n",
    "            os.system(\"mv {} ./logs/exception.log-{}\".format(self.exception_logpath, str(time.time())))\n",
    "\n",
    "    # TODO: multi-thread sync\n",
    "\n",
    "    def log(self, text):\n",
    "        f = open(self.logpath, \"a+\")\n",
    "        f.write(text)\n",
    "        f.close()\n",
    "\n",
    "    def bug_log(self, text):\n",
    "        f = open(self.bug_logpath, \"a+\")\n",
    "        f.write(text)\n",
    "        f.close()\n",
    "\n",
    "    def except_log(self, text):\n",
    "        if \"imeout\" in text:\n",
    "            return\n",
    "        f = open(self.exception_logpath, \"a+\")\n",
    "        f.write(text)\n",
    "        f.close()\n",
    "\n",
    "    def print_testing_results(self):\n",
    "        self.log(\"number of tested base queries: {}\\n\".format(self.executed_base_query_num))\n",
    "        self.log(\"number of detected inconsistent pair: {}\\n\".format(self.detected_bug_num))\n",
    "\n",
    "    def time_checking(self, base_time, testing_time):\n",
    "        diff = max(base_time, testing_time)/min(base_time, testing_time)\n",
    "        if diff>self.threshold and testing_time>50.0 and testing_time<base_time:\n",
    "            self.log(\"[***** Potential Performance Bug: DIFF={:.2f}times *****]\\n\".format(diff))\n",
    "            self.bug_rules_eval[0] += self.current_rules_eval[0]\n",
    "            self.bug_rules_eval[1] += self.current_rules_eval[1]\n",
    "            self.bug_rules_eval[2] += self.current_rules_eval[2]\n",
    "            return 1\n",
    "        return 0\n",
    "\n",
    "    def variant_time_checking(self, base_time, light_time):\n",
    "        diff = max(light_time, base_time)/min(light_time, base_time)\n",
    "        if diff>self.variant_threshold and light_time>base_time:\n",
    "            self.log(\"[***** Potential Performance Bug: DIFF={:.2f}times *****]\\n\".format(diff))\n",
    "            return 1\n",
    "        return 0\n",
    "\n",
    "    def result_checking(self, base_result, test_result, base_query, test_query):\n",
    "        buggy = type(base_result)!=type(test_result) or base_result!=test_result\n",
    "        if buggy and \"count\" in test_query:\n",
    "            if base_result==None or test_result==None:\n",
    "                self.log(\"[***** None Check *****]\\n\")\n",
    "            else:\n",
    "                # remove reduplicate bugs in one testing case\n",
    "                if test_result in self.prev_results:\n",
    "                    return\n",
    "                self.detected_bug_num += 1\n",
    "                self.bug_rules_eval[0] += self.current_rules_eval[0]\n",
    "                self.bug_rules_eval[1] += self.current_rules_eval[1]\n",
    "                self.bug_rules_eval[2] += self.current_rules_eval[2]\n",
    "                self.log(\"[***** No.{} Potential Logic Bug: {} {} *****]\\n\".format(self.detected_bug_num, base_result, test_result))\n",
    "                self.bug_log(\"{}\\n[***** No.{} Potential Logic Bug:\\n\\tbase_query={}\\n\\ttest_query={}\\n\\tbase_result={}\\ttest_result={}\\n*****]\\n\".format(datetime.datetime.now(), self.detected_bug_num, base_query, test_query, base_result, test_result))\n",
    "                self.prev_results.append(test_result)\n",
    "\n",
    "    def restricted_result_checking(self, base_result, restricted_result, query):\n",
    "        if base_result!=None and restricted_result!=None and base_result<restricted_result:\n",
    "            self.detected_bug_num += 1\n",
    "            self.log(\"[***** Potential Restricted Logic Bug: {} {} *****]\\n\".format(base_result, restricted_result))\n",
    "            self.bug_rules_eval[0] += self.current_rules_eval[0]\n",
    "            self.bug_rules_eval[1] += self.current_rules_eval[1]\n",
    "            self.bug_rules_eval[2] += self.current_rules_eval[2]\n",
    "\n",
    "    def performance_verification(self, base_query, testing_query, version):\n",
    "        base_dbhits = self.execute_ret_dbhits(version, base_query)\n",
    "        testing_dbhits = self.execute_ret_dbhits(version, testing_query)\n",
    "\n",
    "    # function for multi-threading\n",
    "    # Note: db may have sync issue => result inconsistency \n",
    "    def eq_testing(self, base_result, base_time, base_query, eq_query):\n",
    "        eq_query_result, eq_query_time = self.execute_ret_result_time(eq_query, log_str=\"[Equivalent]\")\n",
    "        if base_result!=None or eq_query_result!=None:\n",
    "            self.result_checking(base_result, eq_query_result, base_query, eq_query)\n",
    "        if self.perf_issue==1 and base_time>self.minimum_test_ms:\n",
    "            self.time_checking(base_time, eq_query_time)\n",
    "\n",
    "    # only for testing single version single instance, no index testing\n",
    "    def testing(self, random_cypher_generator, cypher_query_mutator):\n",
    "        for i in range(self.testing_times):\n",
    "            print(\"{} round testing\".format(i+1))\n",
    "            self.current_rules_eval = [0, 0, 0]\n",
    "            self.executed_allquery = 0\n",
    "            self.executed_query_num = 0\n",
    "            self.executed_base_query_num = 0\n",
    "            self.detected_bug_num = 0\n",
    "            random_cypher_generator.init()\n",
    "            while True:\n",
    "                if self.executed_base_query_num % self.logging_stop == 0:\n",
    "                    self.log(\"{} executed. Rules evaluation statitics: {}\\n\".format(self.executed_base_query_num, str(self.bug_rules_eval)))\n",
    "                self.prev_results.clear()\n",
    "                base_query = random_cypher_generator.random_query_generator()\n",
    "                self.print_testing_results()\n",
    "                self.executed_base_query_num += 1\n",
    "                self.log(\"=================================\\n\")\n",
    "                self.log(\"No.{} Base Query: {} \\n\".format(self.executed_base_query_num, base_query))\n",
    "                base_query_result = -1\n",
    "                base_query_time = -1\n",
    "                base_query_result, base_query_time = self.execute_ret_result_time(query=base_query, log_str=\"[BASE QUERY]\")\n",
    "                equivalent_queries, equivalent_rules_eval = cypher_query_mutator.generate_equivalent_queries(base_query)\n",
    "                if self.variant:\n",
    "                    restricted_queries, restricted_rules_eval = cypher_query_mutator.generate_restricted_queries(base_query)\n",
    "                for i in range(len(equivalent_queries)):\n",
    "                    eq_query = equivalent_queries[i]\n",
    "                    self.current_rules_eval = equivalent_rules_eval[i]\n",
    "                    # Use multi threads\n",
    "                    if self.multi_threading:\n",
    "                        if base_query_time>0:\n",
    "                            new_thread = threading.Thread(target=self.eq_testing, args=(base_query_result, base_query_time, base_query, eq_query))\n",
    "                            new_thread.start()\n",
    "                            self.threads.append(new_thread)\n",
    "                    # No multi threads\n",
    "                    else:\n",
    "                        if base_query_time>0:\n",
    "                            eq_query_result, eq_query_time = self.execute_ret_result_time(query=eq_query, log_str=\"[Equivalent]\")\n",
    "                            self.result_checking(base_query_result, eq_query_result, base_query, eq_query)\n",
    "                            if self.perf_issue==1 and base_query_time>self.minimum_test_ms:\n",
    "                                self.time_checking(base_query_time, eq_query_time)\n",
    "                if self.multi_threading:\n",
    "                    # wait for all threads finishing\n",
    "                    for t in self.threads:\n",
    "                        t.join()\n",
    "                    self.threads.clear()\n",
    "\n",
    "                # variant: testing variant queries\n",
    "                # multi-threading is not used here\n",
    "                if self.variant:\n",
    "                    for i in range(len(restricted_queries)):\n",
    "                        each_query = restricted_queries[i]\n",
    "                        self.current_rules_eval = restricted_rules_eval[i]\n",
    "                        if base_query_time>0:\n",
    "                            query_result, query_time = self.execute_ret_result_time(query=each_query, log_str=\"[Restricted]\")\n",
    "                            self.restricted_result_checking(base_query_result, query_result, each_query)\n",
    "\n",
    "class Neo4jTesting(Testing):\n",
    "    # Neo4j Config\n",
    "    def __init__(self):\n",
    "        self.init_testing_configs()\n",
    "        self.start_time = time.time()\n",
    "        if os.path.exists(self.logpath):\n",
    "            self.init_log()\n",
    "        self.log(\"***** Testing Neo4j *****\\n\")\n",
    "        self.log(\"\\tmulti_threading={}\\n\".format(self.multi_threading))\n",
    "        self.log(\"\\tvariant={}\\n\".format(self.variant))\n",
    "        self.bolt_uri = \"bolt://{}:{}\".format(self.ip, self.port)\n",
    "        self.driver = GraphDatabase.driver(self.bolt_uri, auth=(self.username, self.password))\n",
    "\n",
    "    # log/return result+time\n",
    "    def execute_ret_result_time(self, query, log_str):\n",
    "        driver = self.driver\n",
    "        query_result = None\n",
    "        query_time = -1\n",
    "        with driver.session() as session:\n",
    "            try:\n",
    "                # if possible, clear cache first\n",
    "                clear_query = \"CALL db.clearQueryCaches();\"\n",
    "                session.execute_write(self._new_execute, clear_query)\n",
    "                query_result, query_time = session.execute_write(self._new_execute, query)\n",
    "            except Exception as e:\n",
    "                print('\\nQuery:{}\\nInfo:{}\\n'.format(query, str(e)))\n",
    "                # self.except_log('\\nQuery:{}\\nInfo:{}\\n'.format(query, str(e)))\n",
    "                return None, -1\n",
    "            self.executed_allquery += 1\n",
    "            self.log(\"No.{} {} Query=\\\"{}\\\"\\n\\tQuery Result={}\\n\\tQuery Time={}\\n\".format(self.executed_allquery, log_str, query, query_result, query_time))\n",
    "        self.executed_query_num += 1\n",
    "        return query_result, query_time\n",
    "\n",
    "    @staticmethod\n",
    "    def _new_execute(tx, query):\n",
    "        ## clear cache first\n",
    "        clear_query = \"CALL db.clearQueryCaches();\"\n",
    "        tx.run(clear_query)\n",
    "        query_result = -1\n",
    "        query_time = -1\n",
    "        query_execute = tx.run(query)\n",
    "        query_data = query_execute.data()\n",
    "        if len(query_data)==0:\n",
    "            query_result = None\n",
    "        else:\n",
    "            query_result = (list(query_data[0].values())[0])\n",
    "        query_time = query_execute.consume().result_available_after + query_execute.consume().result_consumed_after\n",
    "        return query_result, query_time\n",
    "\n",
    "\n",
    "if __name__ == \"__main__\":\n",
    "    print(\"=====GraphGenie=====\")\n",
    "    config = configparser.ConfigParser()\n",
    "    config.read('graphgenie.ini')\n",
    "    graphdb = config['default']['graphdb']\n",
    "    language = config['default']['language']\n",
    "    ip = config['default']['ip']\n",
    "    port = int(config['default']['port'])\n",
    "    username = config['default']['username']\n",
    "    password = config['default']['password']\n",
    "\n",
    "    \n",
    "    from neo4j import GraphDatabase\n",
    "    test = Neo4jTesting()\n",
    "    graph_full = gt.Graph(directed=True)\n",
    "\n",
    "\n",
    "\n",
    "    schema_scanner = Neo4jSchemaScanner(ip, port, username, password)\n",
    "    node_labels, edge_labels, node_properties, connectivity_matrix, properties_types,graph_full = schema_scanner.scan(graph_full)\n",
    "    \n"
   ]
  },
  {
   "cell_type": "code",
   "execution_count": 4,
   "metadata": {},
   "outputs": [
    {
     "name": "stdout",
     "output_type": "stream",
     "text": [
      "INIT:['Actor', 'Director', 'Genre', 'Movie', 'Person', 'User'], edge_labels['ACTED_IN', 'DIRECTED', 'IN_GENRE', 'RATED'],connectivity_matrix[[0, 0, 0, 1, 0, 0], [0, 0, 0, 1, 0, 0], [0, 0, 0, 0, 0, 0], [0, 0, 1, 0, 0, 0], [0, 0, 0, 1, 0, 0], [0, 0, 0, 1, 0, 0]],property_types_dict{'bornIn': 'STRING NOT NULL', 'born': 'DATE NOT NULL', 'died': 'DATE NOT NULL', 'tmdbId': 'STRING NOT NULL', 'imdbId': 'STRING NOT NULL', 'name': 'STRING NOT NULL', 'url': 'STRING NOT NULL', 'bio': 'STRING NOT NULL', 'poster': 'STRING NOT NULL', 'runtime': 'INTEGER NOT NULL', 'revenue': 'INTEGER NOT NULL', 'budget': 'INTEGER NOT NULL', 'imdbRating': 'FLOAT NOT NULL', 'released': 'STRING NOT NULL', 'countries': 'LIST<STRING NOT NULL> NOT NULL', 'languages': 'LIST<STRING NOT NULL> NOT NULL', 'plot': 'STRING NOT NULL', 'imdbVotes': 'INTEGER NOT NULL', 'year': 'INTEGER NOT NULL', 'movieId': 'STRING NOT NULL', 'title': 'STRING NOT NULL', 'userId': 'STRING NOT NULL'},\n"
     ]
    }
   ],
   "source": [
    "# print(\"CONNECTIVITY MATRIX:\",connectivity_matrix);\n",
    "random_cypher_generator = RandomCypherGenerator_subqueries_with_graph(node_labels, edge_labels, node_properties, connectivity_matrix,properties_types,graph_full)\n",
    "cypher_query_mutator = CypherQueryMutator(node_labels, edge_labels, node_properties, connectivity_matrix)\n"
   ]
  },
  {
   "cell_type": "code",
   "execution_count": 5,
   "metadata": {},
   "outputs": [],
   "source": [
    "    # test.testing(random_cypher_generator, cypher_query_mutator)\n",
    "    # random_cypher_generator.init()\n",
    "    \n",
    "    # for i in range(10):\n",
    "    #     print(\"\\n\",\"=\"*100)\n",
    "    #     base_query = random_cypher_generator.random_query_generator()\n",
    "    #     print()\n",
    "    #     print(base_query)\n",
    "    #     print()\n",
    "    #     print(random_cypher_generator.symbols)\n",
    "    #     print(random_cypher_generator.node_symbols)\n",
    "    #     print(random_cypher_generator.name_label_dict)\n",
    "    #     print(random_cypher_generator.node_properties)\n",
    "    #     print(f\"property_to_test:{random_cypher_generator.property_to_test}\")\n",
    "    #     print(f\"number of nested: {random_cypher_generator.number_nested_predicates}\")\n",
    "    #      #input()\n",
    "    \n",
    "    # # for i in range(10):\n",
    "    # #     equivalent_queries, equivalent_rules_eval = cypher_query_mutator.generate_equivalent_queries(base_query)\n",
    "    # #     print(equivalent_queries)\n",
    "    # #     print()\n",
    "    # #     print(equivalent_rules_eval)\n",
    "    # #     print(\"=================================\")"
   ]
  },
  {
   "cell_type": "code",
   "execution_count": 6,
   "metadata": {},
   "outputs": [],
   "source": [
    "test.current_rules_eval = [0, 0, 0]\n",
    "test.executed_allquery = 0\n",
    "test.executed_query_num = 0\n",
    "test.executed_base_query_num = 0\n",
    "test.detected_bug_num = 0"
   ]
  },
  {
   "cell_type": "markdown",
   "metadata": {},
   "source": []
  },
  {
   "cell_type": "code",
   "execution_count": 7,
   "metadata": {},
   "outputs": [
    {
     "name": "stdout",
     "output_type": "stream",
     "text": [
      "MATCH (id18935:Actor)-[:ACTED_IN]->(id1178:Movie)-[:IN_GENRE]->(id16:Genre) WHERE True RETURN DISTINCT id18935   LIMIT 5\n",
      "{'bornIn': 'London, England, UK', 'tmdbId': '15440', 'imdbId': '0364813', 'born': neo4j.time.Date(1961, 8, 24), 'name': 'Jared Harris', 'bio': 'Jared Francis Harris (born 24 August 1961) is an English actor, well-known for his portrayal of Lane Pryce on the AMC series Mad Men...', 'id': 18920, 'poster': 'https://image.tmdb.org/t/p/w440_and_h660_face/mGODbYpkR1NKBOV3rtTfZ7EWoIl.jpg', 'url': 'https://themoviedb.org/person/15440'}\n"
     ]
    }
   ],
   "source": [
    "base_query = random_cypher_generator.random_query_generator()\n",
    "base_query_result, base_query_time = test.execute_ret_result_time(query=base_query, log_str=\"[BASE QUERY]\")\n",
    "print(base_query)\n",
    "print(base_query_result)\n"
   ]
  },
  {
   "cell_type": "code",
   "execution_count": 8,
   "metadata": {},
   "outputs": [],
   "source": [
    "%aimport query_mutator_sequential\n",
    "from query_mutator_sequential import CypherQueryMutatorSequential"
   ]
  },
  {
   "cell_type": "code",
   "execution_count": 9,
   "metadata": {},
   "outputs": [],
   "source": [
    "cypher_query_mutator = CypherQueryMutatorSequential(node_labels, edge_labels, node_properties, connectivity_matrix,graph_full)"
   ]
  },
  {
   "cell_type": "code",
   "execution_count": 10,
   "metadata": {},
   "outputs": [
    {
     "name": "stdout",
     "output_type": "stream",
     "text": [
      "COULD NOT FIND A PATH\n",
      "COULD NOT FIND A PATH\n",
      "MATCH (id1540:Movie)-[:IN_GENRE]->(id9:Genre) WHERE ( id1540.id = 1540 ) AND ( id9.id = 9 ) AND EXISTS { MATCH (id10515:Person)-[:ACTED_IN]->(id2716:Movie)-[:IN_GENRE]->(id162:Genre) WHERE ( id10515.id = 10515 ) AND ( id2716.id = 2716 ) AND ( id162.id = 162 ) AND EXISTS { MATCH (id19884:Actor)-[:ACTED_IN]->(id1490:Movie)-[:IN_GENRE]->(id4:Genre) WHERE ( id19884.id = 19884 ) AND ( id1490.id = 1490 ) AND ( id4.id = 4 ) AND EXISTS { MATCH (id7549:Movie)-[:IN_GENRE]->(id10:Genre) WHERE ( id7549.id = 7549 ) AND ( id10.id = 10 ) AND EXISTS { MATCH (id29319:Director)-[:DIRECTED]->(id5484:Movie)-[:IN_GENRE]->(id10:Genre) WHERE ( id29319.id = 29319 ) AND ( id5484.id = 5484 ) AND ( id10.id = 10 ) AND EXISTS { (id9811:User)-[:RATED]->(id334:Movie)-[:IN_GENRE]->(id33:Genre) WHERE ( id9811.id = 9811 ) AND ( id334.id = 334 ) AND ( id33.id = 33 ) } } } } } RETURN id1540 ORDER BY NULL SKIP 0 LIMIT 5\n"
     ]
    }
   ],
   "source": [
    "base_query = random_cypher_generator.random_query_generator()\n",
    "print(base_query)"
   ]
  },
  {
   "cell_type": "code",
   "execution_count": 11,
   "metadata": {},
   "outputs": [],
   "source": [
    "cypher_query_mutator.views_ids = []"
   ]
  },
  {
   "cell_type": "code",
   "execution_count": 12,
   "metadata": {},
   "outputs": [],
   "source": [
    "base_query = 'MATCH (id32579:Actor)-[:ACTED_IN]->(id4227:Movie)-[:IN_GENRE]->(id13:Genre) WHERE ( id32579.id = 32579 ) AND ( id4227.id = 4227 ) AND ( id13.id = 13 ) AND EXISTS { OPTIONAL MATCH (id1820:Movie)-[:IN_GENRE]->(id13:Genre) WHERE ( id1820.id = 1820 ) AND ( id13.id = 13 ) AND EXISTS { OPTIONAL MATCH (id17332:Person)-[:ACTED_IN]->(id5882:Movie)-[:IN_GENRE]->(id49:Genre) WHERE ( id17332.id = 17332 ) AND ( id5882.id = 5882 ) AND ( id49.id = 49 ) AND EXISTS { (id12688:Actor)-[:ACTED_IN]->(id3905:Movie)-[:IN_GENRE]->(id33:Genre) WHERE ( id12688.id = 12688 ) AND ( id3905.id = 3905 ) AND ( id33.id = 33 ) } } } RETURN id4227  SKIP 0 LIMIT 5'"
   ]
  },
  {
   "cell_type": "code",
   "execution_count": 13,
   "metadata": {},
   "outputs": [
    {
     "name": "stdout",
     "output_type": "stream",
     "text": [
      "MATCH (id10435:Person)-[:ACTED_IN]->(id5266:Movie)-[:IN_GENRE]->(id16:Genre) WHERE ( id10435.id = 10435 ) AND ( id5266.id = 5266 ) AND ( id16.id = 16 ) AND EXISTS { MATCH (id21711:Actor)-[:ACTED_IN]->(id4830:Movie)-[:IN_GENRE]->(id6:Genre) WHERE ( id21711.id = 21711 ) AND ( id4830.id = 4830 ) AND ( id6.id = 6 ) AND EXISTS { MATCH (id18419:Person)-[:DIRECTED]->(id235:Movie)-[:IN_GENRE]->(id3:Genre) WHERE ( id18419.id = 18419 ) AND ( id235.id = 235 ) AND ( id3.id = 3 ) AND EXISTS { (id16314:Actor)-[:ACTED_IN]->(id3619:Movie)-[:IN_GENRE]->(id4:Genre) WHERE ( id16314.id = 16314 ) AND ( id3619.id = 3619 ) AND ( id4.id = 4 ) } } } RETURN id16 ORDER BY NULL SKIP 0 LIMIT 4\n"
     ]
    }
   ],
   "source": [
    "base_query = random_cypher_generator.random_query_generator()\n",
    "print(base_query)"
   ]
  },
  {
   "cell_type": "code",
   "execution_count": 14,
   "metadata": {},
   "outputs": [],
   "source": [
    "# this_level_query,subquery = cypher_query_mutator.parse_subquerie(base_query)\n",
    "# print(base_query)\n",
    "# print()\n",
    "# print(this_level_query)\n",
    "# print()\n",
    "# print(subquery)"
   ]
  },
  {
   "cell_type": "code",
   "execution_count": null,
   "metadata": {},
   "outputs": [],
   "source": []
  },
  {
   "cell_type": "code",
   "execution_count": 15,
   "metadata": {},
   "outputs": [
    {
     "name": "stdout",
     "output_type": "stream",
     "text": [
      "MATCH (id10435:Person)-[:ACTED_IN]->(id5266:Movie)-[:IN_GENRE]->(id16:Genre) WHERE ( id10435.id = 10435 ) AND ( id5266.id = 5266 ) AND ( id16.id = 16 ) \n",
      "CREATE (view0:view0)-[:contains]->(id10435)-[:ACTED_IN]->(id5266)-[:IN_GENRE]->(id16)  \n",
      "\n",
      " MATCH (view0)-[:contains]->() (()-[]->()){0,1000} (id21711:Actor)-[:ACTED_IN]->(id4830:Movie)-[:IN_GENRE]->(id6:Genre) WHERE ( id21711.id = 21711 ) AND ( id4830.id = 4830 ) AND ( id6.id = 6 ) \n",
      "CREATE (view1:view1)-[:contains]->(id21711)-[:ACTED_IN]->(id4830)-[:IN_GENRE]->(id6)  \n",
      "\n",
      " MATCH (view1)-[:contains]->() (()-[]->()){0,1000} (id18419:Person)-[:DIRECTED]->(id235:Movie)-[:IN_GENRE]->(id3:Genre) WHERE ( id18419.id = 18419 ) AND ( id235.id = 235 ) AND ( id3.id = 3 ) \n",
      "CREATE (view2:view2)-[:contains]->(id18419)-[:DIRECTED]->(id235)-[:IN_GENRE]->(id3)  \n",
      "\n",
      "MATCH (view2)-[:contains]->() (()-[]->()){0,1000}  (id16314:Actor)-[:ACTED_IN]->(id3619:Movie)-[:IN_GENRE]->(id4:Genre) WHERE ( id16314.id = 16314 ) AND ( id3619.id = 3619 ) AND ( id4.id = 4 ) \n",
      "CREATE (view3:view3)-[:contains]->(id16314)-[:ACTED_IN]->(id3619)-[:IN_GENRE]->(id4)  \n",
      "\n"
     ]
    }
   ],
   "source": [
    "cypher_query_mutator.get_all_transactions(base_query)\n"
   ]
  },
  {
   "cell_type": "code",
   "execution_count": 16,
   "metadata": {},
   "outputs": [
    {
     "data": {
      "text/plain": [
       "['MATCH (view:view0) DETACH DELETE view',\n",
       " 'MATCH (view:view1) DETACH DELETE view',\n",
       " 'MATCH (view:view2) DETACH DELETE view',\n",
       " 'MATCH (view:view3) DETACH DELETE view']"
      ]
     },
     "execution_count": 16,
     "metadata": {},
     "output_type": "execute_result"
    }
   ],
   "source": [
    "cypher_query_mutator.get_all_transactions_delete()"
   ]
  },
  {
   "cell_type": "code",
   "execution_count": null,
   "metadata": {},
   "outputs": [],
   "source": []
  }
 ],
 "metadata": {
  "kernelspec": {
   "display_name": "project",
   "language": "python",
   "name": "python3"
  },
  "language_info": {
   "codemirror_mode": {
    "name": "ipython",
    "version": 3
   },
   "file_extension": ".py",
   "mimetype": "text/x-python",
   "name": "python",
   "nbconvert_exporter": "python",
   "pygments_lexer": "ipython3",
   "version": "3.12.0"
  }
 },
 "nbformat": 4,
 "nbformat_minor": 2
}
