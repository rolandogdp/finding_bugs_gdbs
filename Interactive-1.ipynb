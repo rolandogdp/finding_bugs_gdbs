{
 "cells": [
  {
   "cell_type": "markdown",
   "metadata": {
    "isInteractiveWindowMessageCell": true
   },
   "source": [
    "Connected to project (Python 3.12.0)"
   ]
  },
  {
   "cell_type": "markdown",
   "metadata": {
    "isInteractiveWindowMessageCell": true
   },
   "source": [
    "Restarted project (Python 3.12.0)"
   ]
  },
  {
   "cell_type": "code",
   "execution_count": 1,
   "metadata": {},
   "outputs": [],
   "source": [
    "%load_ext autoreload\n",
    "%autoreload 1\n"
   ]
  },
  {
   "cell_type": "code",
   "execution_count": 2,
   "metadata": {},
   "outputs": [],
   "source": [
    "#!/usr/bin/env python3\n",
    "\n",
    "import os\n",
    "import time\n",
    "import json\n",
    "import threading\n",
    "import configparser\n",
    "import datetime\n",
    "import random\n",
    "%aimport schema_scanner\n",
    "%aimport query_generator\n",
    "%aimport query_mutator_sequential\n",
    "%aimport query_generator_subqueries_with_graph\n",
    "%aimport testing\n",
    "\n",
    "\n",
    "#!/usr/bin/env python3\n",
    "\n",
    "import os\n",
    "import time\n",
    "import json\n",
    "import threading\n",
    "import configparser\n",
    "import datetime\n",
    "\n",
    "from schema_scanner import *\n",
    "from query_generator import *\n",
    "from query_mutator_sequential import *\n",
    "from query_generator_subqueries_with_graph import *\n",
    "\n",
    "import graph_tool.all as gt\n",
    "from testing import *\n"
   ]
  },
  {
   "cell_type": "code",
   "execution_count": 3,
   "metadata": {},
   "outputs": [
    {
     "name": "stderr",
     "output_type": "stream",
     "text": [
      "Transaction failed and will be retried in 0.9778652078668851s (Couldn't connect to 127.0.0.1:7687 (resolved to ()):\n",
      "Failed to establish connection to ResolvedIPv4Address(('127.0.0.1', 7687)) (reason [Errno 111] Connection refused))\n"
     ]
    },
    {
     "name": "stdout",
     "output_type": "stream",
     "text": [
      "=====GraphGenie=====\n"
     ]
    },
    {
     "name": "stderr",
     "output_type": "stream",
     "text": [
      "Transaction failed and will be retried in 2.0757543875242033s (Couldn't connect to 127.0.0.1:7687 (resolved to ()):\n",
      "Failed to establish connection to ResolvedIPv4Address(('127.0.0.1', 7687)) (reason [Errno 111] Connection refused))\n",
      "Transaction failed and will be retried in 4.380559950270374s (Couldn't connect to 127.0.0.1:7687 (resolved to ()):\n",
      "Failed to establish connection to ResolvedIPv4Address(('127.0.0.1', 7687)) (reason [Errno 111] Connection refused))\n",
      "Transaction failed and will be retried in 6.6396594802766975s (Couldn't connect to 127.0.0.1:7687 (resolved to ()):\n",
      "Failed to establish connection to ResolvedIPv4Address(('127.0.0.1', 7687)) (reason [Errno 111] Connection refused))\n",
      "Transaction failed and will be retried in 15.413284627943348s (Couldn't connect to 127.0.0.1:7687 (resolved to ()):\n",
      "Failed to establish connection to ResolvedIPv4Address(('127.0.0.1', 7687)) (reason [Errno 111] Connection refused))\n"
     ]
    },
    {
     "name": "stdout",
     "output_type": "stream",
     "text": [
      "Node count: 28863\n",
      "Edge count: 332522\n",
      "Node labels: ['Actor', 'Director', 'Genre', 'Movie', 'Person', 'User']\n",
      "Edge labels: ['ACTED_IN', 'DIRECTED', 'IN_GENRE', 'RATED']\n",
      "each_node_label: ['Actor', 'Director', 'Genre', 'Movie', 'Person', 'User']\n",
      "properties_types:{'bornIn': 'STRING NOT NULL', 'id': 'INTEGER NOT NULL', 'born': 'DATE NOT NULL', 'died': 'DATE NOT NULL', 'tmdbId': 'STRING NOT NULL', 'imdbId': 'STRING NOT NULL', 'name': 'STRING NOT NULL', 'url': 'STRING NOT NULL', 'bio': 'STRING NOT NULL', 'poster': 'STRING NOT NULL', 'runtime': 'INTEGER NOT NULL', 'revenue': 'INTEGER NOT NULL', 'budget': 'INTEGER NOT NULL', 'imdbRating': 'FLOAT NOT NULL', 'released': 'STRING NOT NULL', 'countries': 'LIST<STRING NOT NULL> NOT NULL', 'languages': 'LIST<STRING NOT NULL> NOT NULL', 'plot': 'STRING NOT NULL', 'imdbVotes': 'INTEGER NOT NULL', 'year': 'INTEGER NOT NULL', 'movieId': 'STRING NOT NULL', 'title': 'STRING NOT NULL', 'userId': 'STRING NOT NULL'}\n",
      "A D G M P U \n",
      "0 0 0 1 0 0 \n",
      "0 0 0 1 0 0 \n",
      "0 0 0 0 0 0 \n",
      "0 0 1 0 0 0 \n",
      "0 0 0 1 0 0 \n",
      "0 0 0 1 0 0 \n",
      "===FILLING GRAPH (Can take a while)===\n",
      "Setting ids to each node\n",
      "Gather list of all ids\n",
      "all_ids [{'n.id': 33879}, {'n.id': 33878}, {'n.id': 33877}, {'n.id': 33876}, {'n.id': 33875}]\n"
     ]
    },
    {
     "name": "stderr",
     "output_type": "stream",
     "text": [
      "100%|██████████| 28863/28863 [00:00<00:00, 784139.73it/s]\n"
     ]
    },
    {
     "name": "stdout",
     "output_type": "stream",
     "text": [
      "Querying vertices and edges (Can take a while))\n",
      "Adding vertices and edges (with their properties) (Can take a while))\n"
     ]
    },
    {
     "name": "stderr",
     "output_type": "stream",
     "text": [
      "100%|██████████| 166261/166261 [00:01<00:00, 122755.39it/s]\n"
     ]
    },
    {
     "name": "stdout",
     "output_type": "stream",
     "text": [
      "Graph filled\n",
      "===============\n"
     ]
    }
   ],
   "source": [
    "\n",
    "if __name__ == \"__main__\":\n",
    "    print(\"=====GraphGenie=====\")\n",
    "    config = configparser.ConfigParser()\n",
    "    config.read('graphgenie.ini')\n",
    "    graphdb = config['default']['graphdb']\n",
    "    language = config['default']['language']\n",
    "    ip = config['default']['ip']\n",
    "    port = int(config['default']['port'])\n",
    "    username = config['default']['username']\n",
    "    password = config['default']['password']\n",
    "\n",
    "    \n",
    "    from neo4j import GraphDatabase\n",
    "    test = Neo4jTesting()\n",
    "    graph_full = gt.Graph(directed=True)\n",
    "\n",
    "\n",
    "\n",
    "    schema_scanner = Neo4jSchemaScanner(ip, port, username, password)\n",
    "    node_labels, edge_labels, node_properties, connectivity_matrix, properties_types,graph_full = schema_scanner.scan(graph_full)\n",
    "    \n"
   ]
  },
  {
   "cell_type": "code",
   "execution_count": 4,
   "metadata": {},
   "outputs": [
    {
     "name": "stdout",
     "output_type": "stream",
     "text": [
      "INIT:['Actor', 'Director', 'Genre', 'Movie', 'Person', 'User'], edge_labels['ACTED_IN', 'DIRECTED', 'IN_GENRE', 'RATED'],connectivity_matrix[[0, 0, 0, 1, 0, 0], [0, 0, 0, 1, 0, 0], [0, 0, 0, 0, 0, 0], [0, 0, 1, 0, 0, 0], [0, 0, 0, 1, 0, 0], [0, 0, 0, 1, 0, 0]],property_types_dict{'bornIn': 'STRING NOT NULL', 'id': 'INTEGER NOT NULL', 'born': 'DATE NOT NULL', 'died': 'DATE NOT NULL', 'tmdbId': 'STRING NOT NULL', 'imdbId': 'STRING NOT NULL', 'name': 'STRING NOT NULL', 'url': 'STRING NOT NULL', 'bio': 'STRING NOT NULL', 'poster': 'STRING NOT NULL', 'runtime': 'INTEGER NOT NULL', 'revenue': 'INTEGER NOT NULL', 'budget': 'INTEGER NOT NULL', 'imdbRating': 'FLOAT NOT NULL', 'released': 'STRING NOT NULL', 'countries': 'LIST<STRING NOT NULL> NOT NULL', 'languages': 'LIST<STRING NOT NULL> NOT NULL', 'plot': 'STRING NOT NULL', 'imdbVotes': 'INTEGER NOT NULL', 'year': 'INTEGER NOT NULL', 'movieId': 'STRING NOT NULL', 'title': 'STRING NOT NULL', 'userId': 'STRING NOT NULL'},\n"
     ]
    },
    {
     "ename": "NameError",
     "evalue": "name 'CypherQueryMutator' is not defined",
     "output_type": "error",
     "traceback": [
      "\u001b[0;31m---------------------------------------------------------------------------\u001b[0m",
      "\u001b[0;31mNameError\u001b[0m                                 Traceback (most recent call last)",
      "Cell \u001b[0;32mIn[4], line 3\u001b[0m\n\u001b[1;32m      1\u001b[0m \u001b[38;5;66;03m# print(\"CONNECTIVITY MATRIX:\",connectivity_matrix);\u001b[39;00m\n\u001b[1;32m      2\u001b[0m random_cypher_generator \u001b[38;5;241m=\u001b[39m RandomCypherGenerator_subqueries_with_graph(node_labels, edge_labels, node_properties, connectivity_matrix,properties_types,graph_full)\n\u001b[0;32m----> 3\u001b[0m cypher_query_mutator \u001b[38;5;241m=\u001b[39m \u001b[43mCypherQueryMutator\u001b[49m(node_labels, edge_labels, node_properties, connectivity_matrix)\n",
      "\u001b[0;31mNameError\u001b[0m: name 'CypherQueryMutator' is not defined"
     ]
    }
   ],
   "source": [
    "# print(\"CONNECTIVITY MATRIX:\",connectivity_matrix);\n",
    "random_cypher_generator = RandomCypherGenerator_subqueries_with_graph(node_labels, edge_labels, node_properties, connectivity_matrix,properties_types,graph_full)\n",
    "cypher_query_mutator = CypherQueryMutatorSequential(node_labels, edge_labels, node_properties, connectivity_matrix)\n"
   ]
  },
  {
   "cell_type": "code",
   "execution_count": 5,
   "metadata": {},
   "outputs": [],
   "source": [
    "    # test.testing(random_cypher_generator, cypher_query_mutator)\n",
    "    # random_cypher_generator.init()\n",
    "    \n",
    "    # for i in range(10):\n",
    "    #     print(\"\\n\",\"=\"*100)\n",
    "    #     base_query = random_cypher_generator.random_query_generator()\n",
    "    #     print()\n",
    "    #     print(base_query)\n",
    "    #     print()\n",
    "    #     print(random_cypher_generator.symbols)\n",
    "    #     print(random_cypher_generator.node_symbols)\n",
    "    #     print(random_cypher_generator.name_label_dict)\n",
    "    #     print(random_cypher_generator.node_properties)\n",
    "    #     print(f\"property_to_test:{random_cypher_generator.property_to_test}\")\n",
    "    #     print(f\"number of nested: {random_cypher_generator.number_nested_predicates}\")\n",
    "    #      #input()\n",
    "    \n",
    "    # # for i in range(10):\n",
    "    # #     equivalent_queries, equivalent_rules_eval = cypher_query_mutator.generate_equivalent_queries(base_query)\n",
    "    # #     print(equivalent_queries)\n",
    "    # #     print()\n",
    "    # #     print(equivalent_rules_eval)\n",
    "    # #     print(\"=================================\")"
   ]
  },
  {
   "cell_type": "code",
   "execution_count": 6,
   "metadata": {},
   "outputs": [],
   "source": [
    "test.current_rules_eval = [0, 0, 0]\n",
    "test.executed_allquery = 0\n",
    "test.executed_query_num = 0\n",
    "test.executed_base_query_num = 0\n",
    "test.detected_bug_num = 0"
   ]
  },
  {
   "cell_type": "markdown",
   "metadata": {},
   "source": []
  },
  {
   "cell_type": "code",
   "execution_count": 7,
   "metadata": {},
   "outputs": [
    {
     "name": "stdout",
     "output_type": "stream",
     "text": [
      "MATCH (id18935:Actor)-[:ACTED_IN]->(id1178:Movie)-[:IN_GENRE]->(id16:Genre) WHERE True RETURN DISTINCT id18935   LIMIT 5\n",
      "{'bornIn': 'London, England, UK', 'tmdbId': '15440', 'imdbId': '0364813', 'born': neo4j.time.Date(1961, 8, 24), 'name': 'Jared Harris', 'bio': 'Jared Francis Harris (born 24 August 1961) is an English actor, well-known for his portrayal of Lane Pryce on the AMC series Mad Men...', 'id': 18920, 'poster': 'https://image.tmdb.org/t/p/w440_and_h660_face/mGODbYpkR1NKBOV3rtTfZ7EWoIl.jpg', 'url': 'https://themoviedb.org/person/15440'}\n"
     ]
    }
   ],
   "source": [
    "base_query = random_cypher_generator.random_query_generator()\n",
    "base_query_result, base_query_time = test.execute_ret_result_time(query=base_query, log_str=\"[BASE QUERY]\")\n",
    "print(base_query)\n",
    "print(base_query_result)\n"
   ]
  },
  {
   "cell_type": "code",
   "execution_count": 8,
   "metadata": {},
   "outputs": [],
   "source": [
    "%aimport query_mutator_sequential\n",
    "from query_mutator_sequential import CypherQueryMutatorSequential"
   ]
  },
  {
   "cell_type": "code",
   "execution_count": 9,
   "metadata": {},
   "outputs": [],
   "source": [
    "cypher_query_mutator = CypherQueryMutatorSequential(node_labels, edge_labels, node_properties, connectivity_matrix,graph_full)"
   ]
  },
  {
   "cell_type": "code",
   "execution_count": 10,
   "metadata": {},
   "outputs": [
    {
     "name": "stdout",
     "output_type": "stream",
     "text": [
      "COULD NOT FIND A PATH\n",
      "COULD NOT FIND A PATH\n",
      "MATCH (id1540:Movie)-[:IN_GENRE]->(id9:Genre) WHERE ( id1540.id = 1540 ) AND ( id9.id = 9 ) AND EXISTS { MATCH (id10515:Person)-[:ACTED_IN]->(id2716:Movie)-[:IN_GENRE]->(id162:Genre) WHERE ( id10515.id = 10515 ) AND ( id2716.id = 2716 ) AND ( id162.id = 162 ) AND EXISTS { MATCH (id19884:Actor)-[:ACTED_IN]->(id1490:Movie)-[:IN_GENRE]->(id4:Genre) WHERE ( id19884.id = 19884 ) AND ( id1490.id = 1490 ) AND ( id4.id = 4 ) AND EXISTS { MATCH (id7549:Movie)-[:IN_GENRE]->(id10:Genre) WHERE ( id7549.id = 7549 ) AND ( id10.id = 10 ) AND EXISTS { MATCH (id29319:Director)-[:DIRECTED]->(id5484:Movie)-[:IN_GENRE]->(id10:Genre) WHERE ( id29319.id = 29319 ) AND ( id5484.id = 5484 ) AND ( id10.id = 10 ) AND EXISTS { (id9811:User)-[:RATED]->(id334:Movie)-[:IN_GENRE]->(id33:Genre) WHERE ( id9811.id = 9811 ) AND ( id334.id = 334 ) AND ( id33.id = 33 ) } } } } } RETURN id1540 ORDER BY NULL SKIP 0 LIMIT 5\n"
     ]
    }
   ],
   "source": [
    "base_query = random_cypher_generator.random_query_generator()\n",
    "print(base_query)"
   ]
  },
  {
   "cell_type": "code",
   "execution_count": 11,
   "metadata": {},
   "outputs": [],
   "source": [
    "cypher_query_mutator.views_ids = []"
   ]
  },
  {
   "cell_type": "code",
   "execution_count": 12,
   "metadata": {},
   "outputs": [],
   "source": [
    "base_query = 'MATCH (id32579:Actor)-[:ACTED_IN]->(id4227:Movie)-[:IN_GENRE]->(id13:Genre) WHERE ( id32579.id = 32579 ) AND ( id4227.id = 4227 ) AND ( id13.id = 13 ) AND EXISTS { OPTIONAL MATCH (id1820:Movie)-[:IN_GENRE]->(id13:Genre) WHERE ( id1820.id = 1820 ) AND ( id13.id = 13 ) AND EXISTS { OPTIONAL MATCH (id17332:Person)-[:ACTED_IN]->(id5882:Movie)-[:IN_GENRE]->(id49:Genre) WHERE ( id17332.id = 17332 ) AND ( id5882.id = 5882 ) AND ( id49.id = 49 ) AND EXISTS { (id12688:Actor)-[:ACTED_IN]->(id3905:Movie)-[:IN_GENRE]->(id33:Genre) WHERE ( id12688.id = 12688 ) AND ( id3905.id = 3905 ) AND ( id33.id = 33 ) } } } RETURN id4227  SKIP 0 LIMIT 5'"
   ]
  },
  {
   "cell_type": "code",
   "execution_count": 13,
   "metadata": {},
   "outputs": [
    {
     "name": "stdout",
     "output_type": "stream",
     "text": [
      "MATCH (id10435:Person)-[:ACTED_IN]->(id5266:Movie)-[:IN_GENRE]->(id16:Genre) WHERE ( id10435.id = 10435 ) AND ( id5266.id = 5266 ) AND ( id16.id = 16 ) AND EXISTS { MATCH (id21711:Actor)-[:ACTED_IN]->(id4830:Movie)-[:IN_GENRE]->(id6:Genre) WHERE ( id21711.id = 21711 ) AND ( id4830.id = 4830 ) AND ( id6.id = 6 ) AND EXISTS { MATCH (id18419:Person)-[:DIRECTED]->(id235:Movie)-[:IN_GENRE]->(id3:Genre) WHERE ( id18419.id = 18419 ) AND ( id235.id = 235 ) AND ( id3.id = 3 ) AND EXISTS { (id16314:Actor)-[:ACTED_IN]->(id3619:Movie)-[:IN_GENRE]->(id4:Genre) WHERE ( id16314.id = 16314 ) AND ( id3619.id = 3619 ) AND ( id4.id = 4 ) } } } RETURN id16 ORDER BY NULL SKIP 0 LIMIT 4\n"
     ]
    }
   ],
   "source": [
    "base_query = random_cypher_generator.random_query_generator()\n",
    "print(base_query)"
   ]
  },
  {
   "cell_type": "code",
   "execution_count": 14,
   "metadata": {},
   "outputs": [],
   "source": [
    "# this_level_query,subquery = cypher_query_mutator.parse_subquerie(base_query)\n",
    "# print(base_query)\n",
    "# print()\n",
    "# print(this_level_query)\n",
    "# print()\n",
    "# print(subquery)"
   ]
  },
  {
   "cell_type": "code",
   "execution_count": null,
   "metadata": {},
   "outputs": [],
   "source": []
  },
  {
   "cell_type": "code",
   "execution_count": 15,
   "metadata": {},
   "outputs": [
    {
     "name": "stdout",
     "output_type": "stream",
     "text": [
      "MATCH (id10435:Person)-[:ACTED_IN]->(id5266:Movie)-[:IN_GENRE]->(id16:Genre) WHERE ( id10435.id = 10435 ) AND ( id5266.id = 5266 ) AND ( id16.id = 16 ) \n",
      "CREATE (view0:view0)-[:contains]->(id10435)-[:ACTED_IN]->(id5266)-[:IN_GENRE]->(id16)  \n",
      "\n",
      " MATCH (view0)-[:contains]->() (()-[]->()){0,1000} (id21711:Actor)-[:ACTED_IN]->(id4830:Movie)-[:IN_GENRE]->(id6:Genre) WHERE ( id21711.id = 21711 ) AND ( id4830.id = 4830 ) AND ( id6.id = 6 ) \n",
      "CREATE (view1:view1)-[:contains]->(id21711)-[:ACTED_IN]->(id4830)-[:IN_GENRE]->(id6)  \n",
      "\n",
      " MATCH (view1)-[:contains]->() (()-[]->()){0,1000} (id18419:Person)-[:DIRECTED]->(id235:Movie)-[:IN_GENRE]->(id3:Genre) WHERE ( id18419.id = 18419 ) AND ( id235.id = 235 ) AND ( id3.id = 3 ) \n",
      "CREATE (view2:view2)-[:contains]->(id18419)-[:DIRECTED]->(id235)-[:IN_GENRE]->(id3)  \n",
      "\n",
      "MATCH (view2)-[:contains]->() (()-[]->()){0,1000}  (id16314:Actor)-[:ACTED_IN]->(id3619:Movie)-[:IN_GENRE]->(id4:Genre) WHERE ( id16314.id = 16314 ) AND ( id3619.id = 3619 ) AND ( id4.id = 4 ) \n",
      "CREATE (view3:view3)-[:contains]->(id16314)-[:ACTED_IN]->(id3619)-[:IN_GENRE]->(id4)  \n",
      "\n"
     ]
    }
   ],
   "source": [
    "cypher_query_mutator.get_all_transactions(base_query)\n"
   ]
  },
  {
   "cell_type": "code",
   "execution_count": 16,
   "metadata": {},
   "outputs": [
    {
     "data": {
      "text/plain": [
       "['MATCH (view:view0) DETACH DELETE view',\n",
       " 'MATCH (view:view1) DETACH DELETE view',\n",
       " 'MATCH (view:view2) DETACH DELETE view',\n",
       " 'MATCH (view:view3) DETACH DELETE view']"
      ]
     },
     "execution_count": 16,
     "metadata": {},
     "output_type": "execute_result"
    }
   ],
   "source": [
    "cypher_query_mutator.get_all_transactions_delete()"
   ]
  },
  {
   "cell_type": "code",
   "execution_count": null,
   "metadata": {},
   "outputs": [],
   "source": []
  }
 ],
 "metadata": {
  "kernelspec": {
   "display_name": "project",
   "language": "python",
   "name": "python3"
  },
  "language_info": {
   "codemirror_mode": {
    "name": "ipython",
    "version": 3
   },
   "file_extension": ".py",
   "mimetype": "text/x-python",
   "name": "python",
   "nbconvert_exporter": "python",
   "pygments_lexer": "ipython3",
   "version": "3.12.0"
  }
 },
 "nbformat": 4,
 "nbformat_minor": 2
}
