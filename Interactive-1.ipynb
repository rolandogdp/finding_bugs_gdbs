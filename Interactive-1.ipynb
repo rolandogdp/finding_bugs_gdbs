{
 "cells": [
  {
   "cell_type": "markdown",
   "metadata": {
    "isInteractiveWindowMessageCell": true
   },
   "source": [
    "Connected to project (Python 3.12.0)"
   ]
  },
  {
   "cell_type": "markdown",
   "metadata": {
    "isInteractiveWindowMessageCell": true
   },
   "source": [
    "Restarted project (Python 3.12.0)"
   ]
  },
  {
   "cell_type": "code",
   "execution_count": 1,
   "metadata": {},
   "outputs": [],
   "source": [
    "%load_ext autoreload\n",
    "%autoreload 1\n"
   ]
  },
  {
   "cell_type": "code",
   "execution_count": 2,
   "metadata": {},
   "outputs": [],
   "source": [
    "#!/usr/bin/env python3\n",
    "\n",
    "import os\n",
    "import time\n",
    "import json\n",
    "import threading\n",
    "import configparser\n",
    "import datetime\n",
    "import random\n",
    "%aimport schema_scanner\n",
    "%aimport query_generator\n",
    "%aimport query_mutator_sequential\n",
    "%aimport query_generator_subqueries_with_graph\n",
    "%aimport testing\n",
    "\n",
    "\n",
    "#!/usr/bin/env python3\n",
    "\n",
    "import os\n",
    "import time\n",
    "import json\n",
    "import threading\n",
    "import configparser\n",
    "import datetime\n",
    "\n",
    "from schema_scanner import *\n",
    "from query_generator import *\n",
    "from query_mutator_sequential import *\n",
    "from query_generator_subqueries_with_graph import *\n",
    "\n",
    "import graph_tool.all as gt\n",
    "from testing import *\n"
   ]
  },
  {
   "cell_type": "code",
   "execution_count": 3,
   "metadata": {},
   "outputs": [
    {
     "name": "stdout",
     "output_type": "stream",
     "text": [
      "=====GraphGenie=====\n",
      "***** Testing Neo4j *****\n",
      "\n",
      "\tmulti_threading=1\n",
      "\n",
      "\tvariant=1\n",
      "\n",
      "Node count: 28863\n",
      "Edge count: 332522\n",
      "Node labels: ['Actor', 'Director', 'Genre', 'Movie', 'Person', 'User']\n",
      "Edge labels: ['ACTED_IN', 'DIRECTED', 'IN_GENRE', 'RATED']\n",
      "each_node_label: ['Actor', 'Director', 'Genre', 'Movie', 'Person', 'User']\n",
      "properties_types:{'bornIn': 'STRING NOT NULL', 'id': 'INTEGER NOT NULL', 'born': 'DATE NOT NULL', 'died': 'DATE NOT NULL', 'tmdbId': 'STRING NOT NULL', 'imdbId': 'STRING NOT NULL', 'name': 'STRING NOT NULL', 'url': 'STRING NOT NULL', 'bio': 'STRING NOT NULL', 'poster': 'STRING NOT NULL', 'runtime': 'INTEGER NOT NULL', 'revenue': 'INTEGER NOT NULL', 'budget': 'INTEGER NOT NULL', 'imdbRating': 'FLOAT NOT NULL', 'released': 'STRING NOT NULL', 'countries': 'LIST<STRING NOT NULL> NOT NULL', 'languages': 'LIST<STRING NOT NULL> NOT NULL', 'plot': 'STRING NOT NULL', 'imdbVotes': 'INTEGER NOT NULL', 'year': 'INTEGER NOT NULL', 'movieId': 'STRING NOT NULL', 'title': 'STRING NOT NULL', 'userId': 'STRING NOT NULL'}\n",
      "A D G M P U \n",
      "0 0 0 1 0 0 \n",
      "0 0 0 1 0 0 \n",
      "0 0 0 0 0 0 \n",
      "0 0 1 0 0 0 \n",
      "0 0 0 1 0 0 \n",
      "0 0 0 1 0 0 \n",
      "===FILLING GRAPH (Can take a while)===\n",
      "Setting ids to each node\n",
      "Gather list of all ids\n",
      "all_ids [{'n.id': 33879}, {'n.id': 33878}, {'n.id': 33877}, {'n.id': 33876}, {'n.id': 33875}]\n"
     ]
    },
    {
     "name": "stderr",
     "output_type": "stream",
     "text": [
      "100%|██████████| 28863/28863 [00:00<00:00, 789401.18it/s]\n"
     ]
    },
    {
     "name": "stdout",
     "output_type": "stream",
     "text": [
      "Querying vertices and edges (Can take a while))\n",
      "Adding vertices and edges (with their properties) (Can take a while))\n"
     ]
    },
    {
     "name": "stderr",
     "output_type": "stream",
     "text": [
      "100%|██████████| 166261/166261 [00:01<00:00, 128211.81it/s]\n"
     ]
    },
    {
     "name": "stdout",
     "output_type": "stream",
     "text": [
      "Graph filled\n",
      "===============\n"
     ]
    }
   ],
   "source": [
    "\n",
    "if __name__ == \"__main__\":\n",
    "    print(\"=====GraphGenie=====\")\n",
    "    config = configparser.ConfigParser()\n",
    "    config.read('graphgenie.ini')\n",
    "    graphdb = config['default']['graphdb']\n",
    "    language = config['default']['language']\n",
    "    ip = config['default']['ip']\n",
    "    port = int(config['default']['port'])\n",
    "    username = config['default']['username']\n",
    "    password = config['default']['password']\n",
    "\n",
    "    \n",
    "    from neo4j import GraphDatabase\n",
    "    test = Neo4jTesting()\n",
    "    graph_full = gt.Graph(directed=True)\n",
    "\n",
    "\n",
    "\n",
    "    schema_scanner = Neo4jSchemaScanner(ip, port, username, password)\n",
    "    node_labels, edge_labels, node_properties, connectivity_matrix, properties_types,graph_full = schema_scanner.scan(graph_full)\n",
    "    \n"
   ]
  },
  {
   "cell_type": "code",
   "execution_count": 4,
   "metadata": {},
   "outputs": [
    {
     "name": "stdout",
     "output_type": "stream",
     "text": [
      "INIT:['Actor', 'Director', 'Genre', 'Movie', 'Person', 'User'], edge_labels['ACTED_IN', 'DIRECTED', 'IN_GENRE', 'RATED'],connectivity_matrix[[0, 0, 0, 1, 0, 0], [0, 0, 0, 1, 0, 0], [0, 0, 0, 0, 0, 0], [0, 0, 1, 0, 0, 0], [0, 0, 0, 1, 0, 0], [0, 0, 0, 1, 0, 0]],property_types_dict{'bornIn': 'STRING NOT NULL', 'id': 'INTEGER NOT NULL', 'born': 'DATE NOT NULL', 'died': 'DATE NOT NULL', 'tmdbId': 'STRING NOT NULL', 'imdbId': 'STRING NOT NULL', 'name': 'STRING NOT NULL', 'url': 'STRING NOT NULL', 'bio': 'STRING NOT NULL', 'poster': 'STRING NOT NULL', 'runtime': 'INTEGER NOT NULL', 'revenue': 'INTEGER NOT NULL', 'budget': 'INTEGER NOT NULL', 'imdbRating': 'FLOAT NOT NULL', 'released': 'STRING NOT NULL', 'countries': 'LIST<STRING NOT NULL> NOT NULL', 'languages': 'LIST<STRING NOT NULL> NOT NULL', 'plot': 'STRING NOT NULL', 'imdbVotes': 'INTEGER NOT NULL', 'year': 'INTEGER NOT NULL', 'movieId': 'STRING NOT NULL', 'title': 'STRING NOT NULL', 'userId': 'STRING NOT NULL'},\n"
     ]
    }
   ],
   "source": [
    "# print(\"CONNECTIVITY MATRIX:\",connectivity_matrix);\n",
    "random_cypher_generator = RandomCypherGenerator_subqueries_with_graph(node_labels, edge_labels, node_properties, connectivity_matrix,properties_types,graph_full)\n",
    "cypher_query_mutator = CypherQueryMutatorSequential(node_labels, edge_labels, node_properties, connectivity_matrix, graph_full)\n"
   ]
  },
  {
   "cell_type": "code",
   "execution_count": 5,
   "metadata": {},
   "outputs": [],
   "source": [
    "test.current_rules_eval = [0, 0, 0]\n",
    "test.executed_allquery = 0\n",
    "test.executed_query_num = 0\n",
    "test.executed_base_query_num = 0\n",
    "test.detected_bug_num = 0"
   ]
  },
  {
   "cell_type": "markdown",
   "metadata": {},
   "source": []
  },
  {
   "cell_type": "code",
   "execution_count": 6,
   "metadata": {},
   "outputs": [
    {
     "name": "stdout",
     "output_type": "stream",
     "text": [
      "COULD NOT FIND A PATH\n",
      "COULD NOT FIND A PATH\n",
      "COULD NOT FIND A PATH\n",
      "Query:CALL db.clearQueryCaches();\n",
      " Queried data: [{'value': 'Query cache already empty.'}]\n",
      "Query:MATCH (id112:Movie)-[:IN_GENRE]->(id16:Genre) WHERE ( id112.id = 112 ) AND ( id16.id = 16 ) AND EXISTS { MATCH (id26567:Person)-[:ACTED_IN]->(id8163:Movie)-[:IN_GENRE]->(id9:Genre) WHERE ( id26567.id = 26567 ) AND ( id8163.id = 8163 ) AND ( id9.id = 9 ) AND EXISTS { MATCH (id2921:Movie)-[:IN_GENRE]->(id16:Genre) WHERE ( id2921.id = 2921 ) AND ( id16.id = 16 ) AND EXISTS { (id4857:Movie)-[:IN_GENRE]->(id37:Genre) WHERE ( id4857.id = 4857 ) AND ( id37.id = 37 ) } } } RETURN id112 ORDER BY NULL SKIP 0 LIMIT 1\n",
      " Queried data: [{'id112': {'languages': ['English', ' Spanish'], 'year': 1996, 'imdbId': '0118040', 'runtime': 117, 'imdbRating': 6.0, 'movieId': '103', 'countries': ['USA'], 'imdbVotes': 3834, 'title': 'Unforgettable', 'url': 'https://themoviedb.org/movie/2045', 'tmdbId': '2045', 'plot': \"Unsuccessfully framed for his wife's murder, Dr. David Krane attempts to find the real culprit by utilizing a new drug that allows him to experience the memories of other people first-hand....\", 'id': 112, 'poster': 'https://image.tmdb.org/t/p/w440_and_h660_face/500Ne3EDn3HHpuCQWwGKR74r0cB.jpg', 'released': '1996-02-23', 'budget': 18000000}}]\n",
      "No.1 [BASE QUERY] Query=\"MATCH (id112:Movie)-[:IN_GENRE]->(id16:Genre) WHERE ( id112.id = 112 ) AND ( id16.id = 16 ) AND EXISTS { MATCH (id26567:Person)-[:ACTED_IN]->(id8163:Movie)-[:IN_GENRE]->(id9:Genre) WHERE ( id26567.id = 26567 ) AND ( id8163.id = 8163 ) AND ( id9.id = 9 ) AND EXISTS { MATCH (id2921:Movie)-[:IN_GENRE]->(id16:Genre) WHERE ( id2921.id = 2921 ) AND ( id16.id = 16 ) AND EXISTS { (id4857:Movie)-[:IN_GENRE]->(id37:Genre) WHERE ( id4857.id = 4857 ) AND ( id37.id = 37 ) } } } RETURN id112 ORDER BY NULL SKIP 0 LIMIT 1\"\n",
      "\tQuery Result={'languages': ['English', ' Spanish'], 'year': 1996, 'imdbId': '0118040', 'runtime': 117, 'imdbRating': 6.0, 'movieId': '103', 'countries': ['USA'], 'imdbVotes': 3834, 'title': 'Unforgettable', 'url': 'https://themoviedb.org/movie/2045', 'tmdbId': '2045', 'plot': \"Unsuccessfully framed for his wife's murder, Dr. David Krane attempts to find the real culprit by utilizing a new drug that allows him to experience the memories of other people first-hand....\", 'id': 112, 'poster': 'https://image.tmdb.org/t/p/w440_and_h660_face/500Ne3EDn3HHpuCQWwGKR74r0cB.jpg', 'released': '1996-02-23', 'budget': 18000000}\n",
      "\tQuery Time=108\n",
      "\n",
      "MATCH (id112:Movie)-[:IN_GENRE]->(id16:Genre) WHERE ( id112.id = 112 ) AND ( id16.id = 16 ) AND EXISTS { MATCH (id26567:Person)-[:ACTED_IN]->(id8163:Movie)-[:IN_GENRE]->(id9:Genre) WHERE ( id26567.id = 26567 ) AND ( id8163.id = 8163 ) AND ( id9.id = 9 ) AND EXISTS { MATCH (id2921:Movie)-[:IN_GENRE]->(id16:Genre) WHERE ( id2921.id = 2921 ) AND ( id16.id = 16 ) AND EXISTS { (id4857:Movie)-[:IN_GENRE]->(id37:Genre) WHERE ( id4857.id = 4857 ) AND ( id37.id = 37 ) } } } RETURN id112 ORDER BY NULL SKIP 0 LIMIT 1\n",
      "{'languages': ['English', ' Spanish'], 'year': 1996, 'imdbId': '0118040', 'runtime': 117, 'imdbRating': 6.0, 'movieId': '103', 'countries': ['USA'], 'imdbVotes': 3834, 'title': 'Unforgettable', 'url': 'https://themoviedb.org/movie/2045', 'tmdbId': '2045', 'plot': \"Unsuccessfully framed for his wife's murder, Dr. David Krane attempts to find the real culprit by utilizing a new drug that allows him to experience the memories of other people first-hand....\", 'id': 112, 'poster': 'https://image.tmdb.org/t/p/w440_and_h660_face/500Ne3EDn3HHpuCQWwGKR74r0cB.jpg', 'released': '1996-02-23', 'budget': 18000000}\n"
     ]
    }
   ],
   "source": [
    "base_query = random_cypher_generator.random_query_generator()\n",
    "base_query_result, base_query_time = test.execute_ret_result_time(query=base_query, log_str=\"[BASE QUERY]\")\n",
    "print(base_query)\n",
    "print(base_query_result)\n"
   ]
  },
  {
   "cell_type": "code",
   "execution_count": 7,
   "metadata": {},
   "outputs": [
    {
     "name": "stdout",
     "output_type": "stream",
     "text": [
      "COULD NOT FIND A PATH\n",
      "COULD NOT FIND A PATH\n",
      "COULD NOT FIND A PATH\n",
      "MATCH (id26948:Actor)-[:ACTED_IN]->(id8368:Movie)-[:IN_GENRE]->(id16:Genre) WHERE ( id26948.id = 26948 ) AND ( id8368.id = 8368 ) AND ( id16.id = 16 ) AND EXISTS { MATCH (id3806:Movie)-[:IN_GENRE]->(id63:Genre) WHERE ( id3806.id = 3806 ) AND ( id63.id = 63 ) AND EXISTS { MATCH (id12578:Person)-[:ACTED_IN]->(id804:Movie)-[:IN_GENRE]->(id16:Genre) WHERE ( id12578.id = 12578 ) AND ( id804.id = 804 ) AND ( id16.id = 16 ) AND EXISTS { MATCH (id6981:Movie)-[:IN_GENRE]->(id4:Genre) WHERE ( id6981.id = 6981 ) AND ( id4.id = 4 ) AND EXISTS { MATCH (id21307:Actor)-[:ACTED_IN]->(id3866:Movie)-[:IN_GENRE]->(id14:Genre) WHERE ( id21307.id = 21307 ) AND ( id3866.id = 3866 ) AND ( id14.id = 14 ) AND EXISTS { (id4457:Movie)-[:IN_GENRE]->(id9:Genre) WHERE ( id4457.id = 4457 ) AND ( id9.id = 9 ) } } } } } RETURN id8368   LIMIT 1\n"
     ]
    }
   ],
   "source": [
    "base_query = random_cypher_generator.random_query_generator()\n",
    "print(base_query)"
   ]
  },
  {
   "cell_type": "code",
   "execution_count": 8,
   "metadata": {},
   "outputs": [],
   "source": [
    "cypher_query_mutator.views_ids = []"
   ]
  },
  {
   "cell_type": "code",
   "execution_count": 9,
   "metadata": {},
   "outputs": [],
   "source": [
    "base_query = 'MATCH (id32579:Actor)-[:ACTED_IN]->(id4227:Movie)-[:IN_GENRE]->(id13:Genre) WHERE ( id32579.id = 32579 ) AND ( id4227.id = 4227 ) AND ( id13.id = 13 ) AND EXISTS { OPTIONAL MATCH (id1820:Movie)-[:IN_GENRE]->(id13:Genre) WHERE ( id1820.id = 1820 ) AND ( id13.id = 13 ) AND EXISTS { OPTIONAL MATCH (id17332:Person)-[:ACTED_IN]->(id5882:Movie)-[:IN_GENRE]->(id49:Genre) WHERE ( id17332.id = 17332 ) AND ( id5882.id = 5882 ) AND ( id49.id = 49 ) AND EXISTS { (id12688:Actor)-[:ACTED_IN]->(id3905:Movie)-[:IN_GENRE]->(id33:Genre) WHERE ( id12688.id = 12688 ) AND ( id3905.id = 3905 ) AND ( id33.id = 33 ) } } } RETURN id4227  SKIP 0 LIMIT 5'"
   ]
  },
  {
   "cell_type": "code",
   "execution_count": 10,
   "metadata": {},
   "outputs": [
    {
     "name": "stdout",
     "output_type": "stream",
     "text": [
      "COULD NOT FIND A PATH\n",
      "MATCH (id20558:Person)-[:ACTED_IN]->(id2334:Movie)-[:IN_GENRE]->(id13:Genre) WHERE ( id20558.id = 20558 ) AND ( id2334.id = 2334 ) AND ( id13.id = 13 ) AND EXISTS { MATCH (id17488:Actor)-[:ACTED_IN]->(id3141:Movie)-[:IN_GENRE]->(id63:Genre) WHERE ( id17488.id = 17488 ) AND ( id3141.id = 3141 ) AND ( id63.id = 63 ) AND EXISTS { MATCH (id1368:Movie)-[:IN_GENRE]->(id4:Genre) WHERE ( id1368.id = 1368 ) AND ( id4.id = 4 ) AND EXISTS { MATCH (id32235:Person)-[:DIRECTED]->(id8895:Movie)-[:IN_GENRE]->(id10:Genre) WHERE ( id32235.id = 32235 ) AND ( id8895.id = 8895 ) AND ( id10.id = 10 ) AND EXISTS { MATCH (id9894:Person)-[:ACTED_IN]->(id3013:Movie)-[:IN_GENRE]->(id10:Genre) WHERE ( id9894.id = 9894 ) AND ( id3013.id = 3013 ) AND ( id10.id = 10 ) AND EXISTS { (id15308:Actor)-[:ACTED_IN]->(id3428:Movie)-[:IN_GENRE]->(id4:Genre) WHERE ( id15308.id = 15308 ) AND ( id3428.id = 3428 ) AND ( id4.id = 4 ) } } } } } RETURN DISTINCT id20558 ORDER BY NULL SKIP 0 LIMIT 3\n"
     ]
    }
   ],
   "source": [
    "base_query = random_cypher_generator.random_query_generator()\n",
    "print(base_query)"
   ]
  },
  {
   "cell_type": "code",
   "execution_count": 11,
   "metadata": {},
   "outputs": [],
   "source": [
    "# this_level_query,subquery = cypher_query_mutator.parse_subquerie(base_query)\n",
    "# print(base_query)\n",
    "# print()\n",
    "# print(this_level_query)\n",
    "# print()\n",
    "# print(subquery)"
   ]
  },
  {
   "cell_type": "code",
   "execution_count": null,
   "metadata": {},
   "outputs": [],
   "source": []
  },
  {
   "cell_type": "code",
   "execution_count": 12,
   "metadata": {},
   "outputs": [
    {
     "ename": "AttributeError",
     "evalue": "'CypherQueryMutatorSequential' object has no attribute 'get_all_transactions'",
     "output_type": "error",
     "traceback": [
      "\u001b[0;31m---------------------------------------------------------------------------\u001b[0m",
      "\u001b[0;31mAttributeError\u001b[0m                            Traceback (most recent call last)",
      "Cell \u001b[0;32mIn[12], line 1\u001b[0m\n\u001b[0;32m----> 1\u001b[0m \u001b[43mcypher_query_mutator\u001b[49m\u001b[38;5;241;43m.\u001b[39;49m\u001b[43mget_all_transactions\u001b[49m(base_query)\n",
      "\u001b[0;31mAttributeError\u001b[0m: 'CypherQueryMutatorSequential' object has no attribute 'get_all_transactions'"
     ]
    }
   ],
   "source": [
    "cypher_query_mutator.get_all_transactions(base_query)\n"
   ]
  },
  {
   "cell_type": "code",
   "execution_count": null,
   "metadata": {},
   "outputs": [
    {
     "data": {
      "text/plain": [
       "['MATCH (view:view0) DETACH DELETE view',\n",
       " 'MATCH (view:view1) DETACH DELETE view',\n",
       " 'MATCH (view:view2) DETACH DELETE view',\n",
       " 'MATCH (view:view3) DETACH DELETE view']"
      ]
     },
     "execution_count": 16,
     "metadata": {},
     "output_type": "execute_result"
    }
   ],
   "source": [
    "cypher_query_mutator.get_all_transactions_delete()"
   ]
  },
  {
   "cell_type": "code",
   "execution_count": 28,
   "metadata": {},
   "outputs": [
    {
     "name": "stdout",
     "output_type": "stream",
     "text": [
      "1 round testing\n",
      "0 executed. Rules evaluation statitics: [0, 0, 0]\n",
      "\n",
      "COULD NOT FIND A PATH\n",
      "number of tested base queries: 0\n",
      "\n",
      "number of detected inconsistent pair: 0\n",
      "\n",
      "=================================\n",
      "\n",
      "No.1 Base Query: MATCH (id4128:Movie)-[:IN_GENRE]->(id49:Genre) WHERE ( id4128.id = 4128 ) AND ( id49.id = 49 ) AND EXISTS { MATCH (id28871:Director)-[:DIRECTED]->(id4304:Movie)-[:IN_GENRE]->(id23:Genre) WHERE ( id28871.id = 28871 ) AND ( id4304.id = 4304 ) AND ( id23.id = 23 ) AND EXISTS { MATCH (id27049:Actor)-[:ACTED_IN]->(id8747:Movie)-[:IN_GENRE]->(id10:Genre) WHERE ( id27049.id = 27049 ) AND ( id8747.id = 8747 ) AND ( id10.id = 10 ) AND EXISTS { MATCH (id26785:Person)-[:ACTED_IN]->(id8981:Movie)-[:IN_GENRE]->(id10:Genre) WHERE ( id26785.id = 26785 ) AND ( id8981.id = 8981 ) AND ( id10.id = 10 ) AND EXISTS { (id13779:Person)-[:ACTED_IN]->(id546:Movie)-[:IN_GENRE]->(id2:Genre) WHERE ( id13779.id = 13779 ) AND ( id546.id = 546 ) AND ( id2.id = 2 ) } } } } RETURN id49 ORDER BY NULL SKIP 0 LIMIT 2 \n",
      "\n",
      "Query:CALL db.clearQueryCaches();\n",
      " Queried data: [{'value': 'Query cache already empty.'}]\n",
      "Query:MATCH (id4128:Movie)-[:IN_GENRE]->(id49:Genre) WHERE ( id4128.id = 4128 ) AND ( id49.id = 49 ) AND EXISTS { MATCH (id28871:Director)-[:DIRECTED]->(id4304:Movie)-[:IN_GENRE]->(id23:Genre) WHERE ( id28871.id = 28871 ) AND ( id4304.id = 4304 ) AND ( id23.id = 23 ) AND EXISTS { MATCH (id27049:Actor)-[:ACTED_IN]->(id8747:Movie)-[:IN_GENRE]->(id10:Genre) WHERE ( id27049.id = 27049 ) AND ( id8747.id = 8747 ) AND ( id10.id = 10 ) AND EXISTS { MATCH (id26785:Person)-[:ACTED_IN]->(id8981:Movie)-[:IN_GENRE]->(id10:Genre) WHERE ( id26785.id = 26785 ) AND ( id8981.id = 8981 ) AND ( id10.id = 10 ) AND EXISTS { (id13779:Person)-[:ACTED_IN]->(id546:Movie)-[:IN_GENRE]->(id2:Genre) WHERE ( id13779.id = 13779 ) AND ( id546.id = 546 ) AND ( id2.id = 2 ) } } } } RETURN id49 ORDER BY NULL SKIP 0 LIMIT 2\n",
      " Queried data: [{'id49': {'name': 'Documentary', 'id': 49}}, {'id49': {'name': 'Documentary', 'id': 49}}]\n",
      "No.1 [BASE QUERY] Query=\"MATCH (id4128:Movie)-[:IN_GENRE]->(id49:Genre) WHERE ( id4128.id = 4128 ) AND ( id49.id = 49 ) AND EXISTS { MATCH (id28871:Director)-[:DIRECTED]->(id4304:Movie)-[:IN_GENRE]->(id23:Genre) WHERE ( id28871.id = 28871 ) AND ( id4304.id = 4304 ) AND ( id23.id = 23 ) AND EXISTS { MATCH (id27049:Actor)-[:ACTED_IN]->(id8747:Movie)-[:IN_GENRE]->(id10:Genre) WHERE ( id27049.id = 27049 ) AND ( id8747.id = 8747 ) AND ( id10.id = 10 ) AND EXISTS { MATCH (id26785:Person)-[:ACTED_IN]->(id8981:Movie)-[:IN_GENRE]->(id10:Genre) WHERE ( id26785.id = 26785 ) AND ( id8981.id = 8981 ) AND ( id10.id = 10 ) AND EXISTS { (id13779:Person)-[:ACTED_IN]->(id546:Movie)-[:IN_GENRE]->(id2:Genre) WHERE ( id13779.id = 13779 ) AND ( id546.id = 546 ) AND ( id2.id = 2 ) } } } } RETURN id49 ORDER BY NULL SKIP 0 LIMIT 2\"\n",
      "\tQuery Result={'name': 'Documentary', 'id': 49}\n",
      "\tQuery Time=129\n",
      "\n",
      "Query:CALL db.clearQueryCaches();\n",
      " Queried data: [{'value': 'Query cache already empty.'}]\n",
      "Query:MATCH (id4128:Movie)-[:IN_GENRE]->(id49:Genre) WHERE ( id4128.id = 4128 ) AND ( id49.id = 49 )  \n",
      " CREATE (view0:view0)-[:contains]->(id4128)-[:IN_GENRE]->(id49)\n",
      "\n",
      "Query:MATCH (id4128:Movie)-[:IN_GENRE]->(id49:Genre) WHERE ( id4128.id = 4128 ) AND ( id49.id = 49 )  \n",
      " CREATE (view0:view0)-[:contains]->(id4128)-[:IN_GENRE]->(id49)\n",
      " Queried data: []\n",
      "Query:CALL db.clearQueryCaches();\n",
      " Queried data: [{'value': 'Query cache already empty.'}]\n",
      "Query:MATCH (view0)-[:contains]->() (()-[]->()){0,1000} (id28871:Director)-[:DIRECTED]->(id4304:Movie)-[:IN_GENRE]->(id23:Genre) WHERE ( id28871.id = 28871 ) AND ( id4304.id = 4304 ) AND ( id23.id = 23 )  \n",
      " CREATE (view1:view1)-[:contains]->(id28871)-[:DIRECTED]->(id4304)-[:IN_GENRE]->(id23)\n",
      "\n",
      "Query:MATCH (view0)-[:contains]->() (()-[]->()){0,1000} (id28871:Director)-[:DIRECTED]->(id4304:Movie)-[:IN_GENRE]->(id23:Genre) WHERE ( id28871.id = 28871 ) AND ( id4304.id = 4304 ) AND ( id23.id = 23 )  \n",
      " CREATE (view1:view1)-[:contains]->(id28871)-[:DIRECTED]->(id4304)-[:IN_GENRE]->(id23)\n",
      " Queried data: []\n",
      "Query:CALL db.clearQueryCaches();\n",
      " Queried data: [{'value': 'Query cache already empty.'}]\n",
      "Query:MATCH (view1)-[:contains]->() (()-[]->()){0,1000} (id27049:Actor)-[:ACTED_IN]->(id8747:Movie)-[:IN_GENRE]->(id10:Genre) WHERE ( id27049.id = 27049 ) AND ( id8747.id = 8747 ) AND ( id10.id = 10 )  \n",
      " CREATE (view2:view2)-[:contains]->(id27049)-[:ACTED_IN]->(id8747)-[:IN_GENRE]->(id10)\n",
      "\n",
      "Query:MATCH (view1)-[:contains]->() (()-[]->()){0,1000} (id27049:Actor)-[:ACTED_IN]->(id8747:Movie)-[:IN_GENRE]->(id10:Genre) WHERE ( id27049.id = 27049 ) AND ( id8747.id = 8747 ) AND ( id10.id = 10 )  \n",
      " CREATE (view2:view2)-[:contains]->(id27049)-[:ACTED_IN]->(id8747)-[:IN_GENRE]->(id10)\n",
      " Queried data: []\n",
      "Query:CALL db.clearQueryCaches();\n",
      " Queried data: [{'value': 'Query cache already empty.'}]\n",
      "Query:MATCH (view2)-[:contains]->() (()-[]->()){0,1000} (id26785:Person)-[:ACTED_IN]->(id8981:Movie)-[:IN_GENRE]->(id10:Genre) WHERE ( id26785.id = 26785 ) AND ( id8981.id = 8981 ) AND ( id10.id = 10 )  \n",
      " CREATE (view3:view3)-[:contains]->(id26785)-[:ACTED_IN]->(id8981)-[:IN_GENRE]->(id10)\n",
      "\n",
      "Query:MATCH (view2)-[:contains]->() (()-[]->()){0,1000} (id26785:Person)-[:ACTED_IN]->(id8981:Movie)-[:IN_GENRE]->(id10:Genre) WHERE ( id26785.id = 26785 ) AND ( id8981.id = 8981 ) AND ( id10.id = 10 )  \n",
      " CREATE (view3:view3)-[:contains]->(id26785)-[:ACTED_IN]->(id8981)-[:IN_GENRE]->(id10)\n",
      " Queried data: []\n",
      "Query:CALL db.clearQueryCaches();\n",
      " Queried data: [{'value': 'Query cache already empty.'}]\n",
      "Query:MATCH (view3)-[:contains]->() (()-[]->()){0,1000}  (id13779:Person)-[:ACTED_IN]->(id546:Movie)-[:IN_GENRE]->(id2:Genre) WHERE ( id13779.id = 13779 ) AND ( id546.id = 546 ) AND ( id2.id = 2 )  \n",
      " CREATE (view4:view4)-[:contains]->(id13779)-[:ACTED_IN]->(id546)-[:IN_GENRE]->(id2)\n",
      "\n",
      "Query:MATCH (view3)-[:contains]->() (()-[]->()){0,1000}  (id13779:Person)-[:ACTED_IN]->(id546:Movie)-[:IN_GENRE]->(id2:Genre) WHERE ( id13779.id = 13779 ) AND ( id546.id = 546 ) AND ( id2.id = 2 )  \n",
      " CREATE (view4:view4)-[:contains]->(id13779)-[:ACTED_IN]->(id546)-[:IN_GENRE]->(id2)\n",
      " Queried data: []\n",
      "Query:CALL db.clearQueryCaches();\n",
      " Queried data: [{'value': 'Query cache already empty.'}]\n",
      "\n",
      "Query:\n",
      "Info:{code: Neo.ClientError.Statement.SyntaxError} {message: Unexpected end of input: expected CYPHER, EXPLAIN, PROFILE or Query (line 0, column 0 (offset: 1))\n",
      "\"\"\n",
      " ^}\n",
      "\n",
      "Query:CALL db.clearQueryCaches();\n",
      " Queried data: [{'value': 'Query cache already empty.'}]\n",
      "Query:MATCH (view:view0) DETACH DELETE view\n",
      "\n",
      "Query:MATCH (view:view0) DETACH DELETE view\n",
      " Queried data: []\n",
      "Query:CALL db.clearQueryCaches();\n",
      " Queried data: [{'value': 'Query cache already empty.'}]\n",
      "Query:MATCH (view:view1) DETACH DELETE view\n",
      "\n",
      "Query:MATCH (view:view1) DETACH DELETE view\n",
      " Queried data: []\n",
      "Query:CALL db.clearQueryCaches();\n",
      " Queried data: [{'value': 'Query cache already empty.'}]\n",
      "Query:MATCH (view:view2) DETACH DELETE view\n",
      "\n",
      "Query:MATCH (view:view2) DETACH DELETE view\n",
      " Queried data: []\n",
      "Query:CALL db.clearQueryCaches();\n",
      " Queried data: [{'value': 'Query cache already empty.'}]\n",
      "Query:MATCH (view:view3) DETACH DELETE view\n",
      "\n",
      "Query:MATCH (view:view3) DETACH DELETE view\n",
      " Queried data: []\n",
      "Query:CALL db.clearQueryCaches();\n",
      " Queried data: [{'value': 'Query cache already empty.'}]\n",
      "Query:MATCH (view:view4) DETACH DELETE view\n",
      "\n",
      "Query:MATCH (view:view4) DETACH DELETE view\n",
      " Queried data: []\n"
     ]
    }
   ],
   "source": [
    "test.testing(random_cypher_generator, cypher_query_mutator)"
   ]
  },
  {
   "cell_type": "code",
   "execution_count": 33,
   "metadata": {},
   "outputs": [
    {
     "name": "stdout",
     "output_type": "stream",
     "text": [
      "MATCH (id15016:Actor)-[:ACTED_IN]->(id2520:Movie)-[:IN_GENRE]->(id10:Genre) WHERE ( id15016.id = 15016 ) AND ( id2520.id = 2520 ) AND ( id10.id = 10 ) AND EXISTS { MATCH (id16186:Actor)-[:ACTED_IN]->(id950:Movie)-[:IN_GENRE]->(id10:Genre) WHERE ( id16186.id = 16186 ) AND ( id950.id = 950 ) AND ( id10.id = 10 ) AND EXISTS { (id33731:Director)-[:DIRECTED]->(id7412:Movie)-[:IN_GENRE]->(id2:Genre) WHERE ( id33731.id = 33731 ) AND ( id7412.id = 7412 ) AND ( id2.id = 2 ) } } RETURN DISTINCT id10  SKIP 0 \n"
     ]
    }
   ],
   "source": [
    "base_query = random_cypher_generator.random_query_generator()\n",
    "print(base_query)"
   ]
  },
  {
   "cell_type": "code",
   "execution_count": 34,
   "metadata": {},
   "outputs": [],
   "source": [
    "base_query = 'MATCH (id15016:Actor)-[:ACTED_IN]->(id2520:Movie)-[:IN_GENRE]->(id10:Genre) WHERE ( id15016.id = 15016 ) AND ( id2520.id = 2520 ) AND ( id10.id = 10 ) AND EXISTS {     MATCH (id16186:Actor)-[:ACTED_IN]->(id950:Movie)-[:IN_GENRE]->(id10:Genre)     WHERE ( id16186.id = 16186 ) AND ( id950.id = 950 ) AND ( id10.id = 10 )  }         RETURN DISTINCT id10  SKIP 0 '"
   ]
  },
  {
   "cell_type": "code",
   "execution_count": 35,
   "metadata": {},
   "outputs": [],
   "source": [
    "equivalent_queries_transactions_create,equivalent_queries_transaction_match,equivalent_queries_transactions_delete  = cypher_query_mutator.generate_equivalent_queries(base_query)\n"
   ]
  },
  {
   "cell_type": "code",
   "execution_count": 37,
   "metadata": {},
   "outputs": [
    {
     "data": {
      "text/plain": [
       "['MATCH (id15016:Actor)-[:ACTED_IN]->(id2520:Movie)-[:IN_GENRE]->(id10:Genre) WHERE ( id15016.id = 15016 ) AND ( id2520.id = 2520 ) AND ( id10.id = 10 )  RETURN DISTINCT id10 SKIP 0 ',\n",
       " '  MATCH (id16186:Actor)-[:ACTED_IN]->(id950:Movie)-[:IN_GENRE]->(id10:Genre)  WHERE ( id16186.id = 16186 ) AND ( id950.id = 950 ) AND ( id10.id = 10 ) ']"
      ]
     },
     "execution_count": 37,
     "metadata": {},
     "output_type": "execute_result"
    }
   ],
   "source": [
    "cypher_query_mutator.get_all_subqueries(base_query)"
   ]
  },
  {
   "cell_type": "code",
   "execution_count": 36,
   "metadata": {},
   "outputs": [
    {
     "data": {
      "text/plain": [
       "['MATCH (id15016:Actor)-[:ACTED_IN]->(id2520:Movie)-[:IN_GENRE]->(id10:Genre) WHERE ( id15016.id = 15016 ) AND ( id2520.id = 2520 ) AND ( id10.id = 10 )   \\n CREATE (view0:view0)-[:contains]->(id15016)-[:ACTED_IN]->(id2520)-[:IN_GENRE]->(id10)',\n",
       " 'MATCH (view0)-[:contains]->() (()-[]->()){0,1000} (id16186:Actor)-[:ACTED_IN]->(id950:Movie)-[:IN_GENRE]->(id10:Genre)  WHERE ( id16186.id = 16186 ) AND ( id950.id = 950 ) AND ( id10.id = 10 )  \\n CREATE (view1:view1)-[:contains]->(id16186)-[:ACTED_IN]->(id950)-[:IN_GENRE]->(id10)']"
      ]
     },
     "execution_count": 36,
     "metadata": {},
     "output_type": "execute_result"
    }
   ],
   "source": [
    "equivalent_queries_transactions_create"
   ]
  },
  {
   "cell_type": "code",
   "execution_count": 38,
   "metadata": {},
   "outputs": [
    {
     "data": {
      "text/plain": [
       "''"
      ]
     },
     "execution_count": 38,
     "metadata": {},
     "output_type": "execute_result"
    }
   ],
   "source": [
    "equivalent_queries_transaction_match"
   ]
  },
  {
   "cell_type": "code",
   "execution_count": 23,
   "metadata": {},
   "outputs": [
    {
     "data": {
      "text/plain": [
       "['MATCH (view:view0) DETACH DELETE view',\n",
       " 'MATCH (view:view1) DETACH DELETE view',\n",
       " 'MATCH (view:view2) DETACH DELETE view',\n",
       " 'MATCH (view:view3) DETACH DELETE view']"
      ]
     },
     "execution_count": 23,
     "metadata": {},
     "output_type": "execute_result"
    }
   ],
   "source": [
    "equivalent_queries_transactions_delete"
   ]
  }
 ],
 "metadata": {
  "kernelspec": {
   "display_name": "project",
   "language": "python",
   "name": "python3"
  },
  "language_info": {
   "codemirror_mode": {
    "name": "ipython",
    "version": 3
   },
   "file_extension": ".py",
   "mimetype": "text/x-python",
   "name": "python",
   "nbconvert_exporter": "python",
   "pygments_lexer": "ipython3",
   "version": "3.12.0"
  }
 },
 "nbformat": 4,
 "nbformat_minor": 2
}
